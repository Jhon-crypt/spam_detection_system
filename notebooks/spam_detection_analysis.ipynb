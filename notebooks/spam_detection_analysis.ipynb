{
  "cells": [
    {
      "cell_type": "code",
      "execution_count": null,
      "metadata": {
        "vscode": {
          "languageId": "plaintext"
        }
      },
      "outputs": [],
      "source": [
        "# 📊 Spam Detection System - Analysis & Evaluation\n",
        "\n",
        "This notebook provides comprehensive analysis of the spam detection system, including:\n",
        "- Data exploration and visualization\n",
        "- Model performance comparison\n",
        "- Feature importance analysis\n",
        "- Error analysis and insights\n",
        "- Performance optimization recommendations\n",
        "\n",
        "**Author**: Spam Detection Team  \n",
        "**Version**: 1.0.0  \n",
        "**Date**: 2025\n"
      ]
    },
    {
      "cell_type": "code",
      "execution_count": null,
      "metadata": {
        "vscode": {
          "languageId": "plaintext"
        }
      },
      "outputs": [],
      "source": [
        "## 🔧 Setup and Imports\n"
      ]
    },
    {
      "cell_type": "code",
      "execution_count": null,
      "metadata": {},
      "outputs": [],
      "source": [
        "# Standard imports\n",
        "import sys\n",
        "import os\n",
        "import pandas as pd\n",
        "import numpy as np\n",
        "import matplotlib.pyplot as plt\n",
        "import seaborn as sns\n",
        "from sklearn.metrics import classification_report, confusion_matrix\n",
        "from sklearn.model_selection import learning_curve, validation_curve\n",
        "\n",
        "# Add project root to path\n",
        "sys.path.append('..')\n",
        "\n",
        "# Import our spam detection system\n",
        "from src.spam_detector import SpamClassifier, DataLoader, ModelEvaluator\n",
        "\n",
        "# Configure plotting\n",
        "plt.style.use('seaborn-v0_8')\n",
        "sns.set_palette(\"husl\")\n",
        "plt.rcParams['figure.figsize'] = (12, 8)\n",
        "\n",
        "print(\"✅ All imports successful!\")\n"
      ]
    },
    {
      "cell_type": "code",
      "execution_count": null,
      "metadata": {},
      "outputs": [],
      "source": [
        "## 📊 Data Exploration\n",
        "\n",
        "Let's start by loading and exploring our sample email dataset to understand its characteristics and distribution.\n"
      ]
    },
    {
      "cell_type": "code",
      "execution_count": null,
      "metadata": {},
      "outputs": [],
      "source": [
        "# Load sample data\n",
        "data_loader = DataLoader()\n",
        "data_loader.load_csv('../data/sample_emails.csv')\n",
        "\n",
        "# Get data info\n",
        "info = data_loader.get_data_info()\n",
        "print(\"📈 Dataset Overview:\")\n",
        "for key, value in info.items():\n",
        "    print(f\"  {key}: {value}\")\n",
        "\n",
        "# Display sample data\n",
        "print(\"\\n📧 Sample Emails:\")\n",
        "df = data_loader.data\n",
        "display(df.head())\n"
      ]
    },
    {
      "cell_type": "code",
      "execution_count": null,
      "metadata": {},
      "outputs": [],
      "source": [
        "## 🤖 Model Training & Comparison\n",
        "\n",
        "Now let's train multiple models and compare their performance to find the best approach for spam detection.\n"
      ]
    },
    {
      "cell_type": "code",
      "execution_count": null,
      "metadata": {},
      "outputs": [],
      "source": [
        "# This notebook demonstrates comprehensive analysis of the spam detection system\n",
        "# Run the demo.py script first to train a model, then use this notebook for analysis\n",
        "\n",
        "print(\"🚀 Spam Detection Analysis Notebook\")\n",
        "print(\"=\" * 50)\n",
        "print(\"📝 Instructions:\")\n",
        "print(\"1. First run: python demo.py\")\n",
        "print(\"2. Then execute cells in this notebook for detailed analysis\")\n",
        "print(\"3. The notebook will load the trained model and perform comprehensive evaluation\")\n",
        "print(\"\\n💡 This notebook provides:\")\n",
        "print(\"- Data exploration and visualization\")\n",
        "print(\"- Model performance comparison\") \n",
        "print(\"- Feature importance analysis\")\n",
        "print(\"- Error analysis and insights\")\n",
        "print(\"- Recommendations for improvement\")\n"
      ]
    }
  ],
  "metadata": {
    "language_info": {
      "name": "python"
    }
  },
  "nbformat": 4,
  "nbformat_minor": 2
}
